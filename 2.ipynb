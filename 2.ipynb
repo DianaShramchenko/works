{
  "nbformat": 4,
  "nbformat_minor": 0,
  "metadata": {
    "colab": {
      "provenance": [],
      "include_colab_link": true
    },
    "kernelspec": {
      "name": "python3",
      "display_name": "Python 3"
    },
    "language_info": {
      "name": "python"
    }
  },
  "cells": [
    {
      "cell_type": "markdown",
      "metadata": {
        "id": "view-in-github",
        "colab_type": "text"
      },
      "source": [
        "<a href=\"https://colab.research.google.com/github/DianaShramchenko/works/blob/main/2.ipynb\" target=\"_parent\"><img src=\"https://colab.research.google.com/assets/colab-badge.svg\" alt=\"Open In Colab\"/></a>"
      ]
    },
    {
      "cell_type": "markdown",
      "source": [
        "# Практическая работа №2. Использование глубоких нейронных сетей для решения задач регрессии и классификации\n",
        "\n"
      ],
      "metadata": {
        "id": "jVOridAYaoD_"
      }
    },
    {
      "cell_type": "markdown",
      "source": [
        "**Ссылка на код с пары:**\n",
        "https://colab.research.google.com/drive/18EM8mrpURStkmbxWjZybWbWh23Si5b4A?usp=sharing\n"
      ],
      "metadata": {
        "id": "xfLS4L8wbf5M"
      }
    },
    {
      "cell_type": "markdown",
      "source": [
        "## Задание №1. Обучение модели ИНС для решения задачи регрессии\n",
        "\n"
      ],
      "metadata": {
        "id": "ChzaEMuFavMw"
      }
    },
    {
      "cell_type": "markdown",
      "source": [
        "Постройте глубокую нейронную сеть для предсказания цен на недвижимость в городе Бостон, используя датасет датасет boston_housing_price"
      ],
      "metadata": {
        "id": "_AW7ypoN3qSi"
      }
    },
    {
      "cell_type": "markdown",
      "source": [
        "[Описание датасета](https://www.hackersrealm.net/post/boston-house-price-prediction-analysis-using-python)"
      ],
      "metadata": {
        "id": "O1PDCog53nrg"
      }
    },
    {
      "cell_type": "markdown",
      "source": [
        "#### 1.1. Загружаем исходные данные:"
      ],
      "metadata": {
        "id": "QWLURy8z0u3k"
      }
    },
    {
      "cell_type": "code",
      "source": [
        "import pandas as pd\n",
        "import numpy as np\n",
        "\n",
        "data_url = \"http://lib.stat.cmu.edu/datasets/boston\"\n",
        "raw_df = pd.read_csv(data_url, sep=\"\\s+\", skiprows=22, header=None)\n",
        "data = np.hstack([raw_df.values[::2, :], raw_df.values[1::2, :3]])\n",
        "target = raw_df.values[1::2, 2]\n",
        "\n",
        "# Имена переменных\n",
        "column_names = [\n",
        "    'CRIM', 'ZN', 'INDUS', 'CHAS', 'NOX', 'RM', 'AGE', 'DIS', 'RAD', 'TAX', 'PTRATIO', 'B', 'LSTAT', 'MEDV'\n",
        "]\n",
        "y = target\n",
        "# Создание DataFrame X с указанными именами столбцов\n",
        "X = pd.DataFrame(data, columns=column_names)\n",
        "\n",
        "# Вывод первых строк DataFrame X\n",
        "X.head()"
      ],
      "metadata": {
        "id": "vGAIXw8gzpLL",
        "colab": {
          "base_uri": "https://localhost:8080/",
          "height": 206
        },
        "outputId": "1c4a756c-7c67-4e6b-d96f-beff41979e1f"
      },
      "execution_count": 3,
      "outputs": [
        {
          "output_type": "execute_result",
          "data": {
            "text/plain": [
              "      CRIM    ZN  INDUS  CHAS    NOX     RM   AGE     DIS  RAD    TAX  \\\n",
              "0  0.00632  18.0   2.31   0.0  0.538  6.575  65.2  4.0900  1.0  296.0   \n",
              "1  0.02731   0.0   7.07   0.0  0.469  6.421  78.9  4.9671  2.0  242.0   \n",
              "2  0.02729   0.0   7.07   0.0  0.469  7.185  61.1  4.9671  2.0  242.0   \n",
              "3  0.03237   0.0   2.18   0.0  0.458  6.998  45.8  6.0622  3.0  222.0   \n",
              "4  0.06905   0.0   2.18   0.0  0.458  7.147  54.2  6.0622  3.0  222.0   \n",
              "\n",
              "   PTRATIO       B  LSTAT  MEDV  \n",
              "0     15.3  396.90   4.98  24.0  \n",
              "1     17.8  396.90   9.14  21.6  \n",
              "2     17.8  392.83   4.03  34.7  \n",
              "3     18.7  394.63   2.94  33.4  \n",
              "4     18.7  396.90   5.33  36.2  "
            ],
            "text/html": [
              "\n",
              "  <div id=\"df-a30f1dd3-0596-48cb-b1bf-c30be099f177\" class=\"colab-df-container\">\n",
              "    <div>\n",
              "<style scoped>\n",
              "    .dataframe tbody tr th:only-of-type {\n",
              "        vertical-align: middle;\n",
              "    }\n",
              "\n",
              "    .dataframe tbody tr th {\n",
              "        vertical-align: top;\n",
              "    }\n",
              "\n",
              "    .dataframe thead th {\n",
              "        text-align: right;\n",
              "    }\n",
              "</style>\n",
              "<table border=\"1\" class=\"dataframe\">\n",
              "  <thead>\n",
              "    <tr style=\"text-align: right;\">\n",
              "      <th></th>\n",
              "      <th>CRIM</th>\n",
              "      <th>ZN</th>\n",
              "      <th>INDUS</th>\n",
              "      <th>CHAS</th>\n",
              "      <th>NOX</th>\n",
              "      <th>RM</th>\n",
              "      <th>AGE</th>\n",
              "      <th>DIS</th>\n",
              "      <th>RAD</th>\n",
              "      <th>TAX</th>\n",
              "      <th>PTRATIO</th>\n",
              "      <th>B</th>\n",
              "      <th>LSTAT</th>\n",
              "      <th>MEDV</th>\n",
              "    </tr>\n",
              "  </thead>\n",
              "  <tbody>\n",
              "    <tr>\n",
              "      <th>0</th>\n",
              "      <td>0.00632</td>\n",
              "      <td>18.0</td>\n",
              "      <td>2.31</td>\n",
              "      <td>0.0</td>\n",
              "      <td>0.538</td>\n",
              "      <td>6.575</td>\n",
              "      <td>65.2</td>\n",
              "      <td>4.0900</td>\n",
              "      <td>1.0</td>\n",
              "      <td>296.0</td>\n",
              "      <td>15.3</td>\n",
              "      <td>396.90</td>\n",
              "      <td>4.98</td>\n",
              "      <td>24.0</td>\n",
              "    </tr>\n",
              "    <tr>\n",
              "      <th>1</th>\n",
              "      <td>0.02731</td>\n",
              "      <td>0.0</td>\n",
              "      <td>7.07</td>\n",
              "      <td>0.0</td>\n",
              "      <td>0.469</td>\n",
              "      <td>6.421</td>\n",
              "      <td>78.9</td>\n",
              "      <td>4.9671</td>\n",
              "      <td>2.0</td>\n",
              "      <td>242.0</td>\n",
              "      <td>17.8</td>\n",
              "      <td>396.90</td>\n",
              "      <td>9.14</td>\n",
              "      <td>21.6</td>\n",
              "    </tr>\n",
              "    <tr>\n",
              "      <th>2</th>\n",
              "      <td>0.02729</td>\n",
              "      <td>0.0</td>\n",
              "      <td>7.07</td>\n",
              "      <td>0.0</td>\n",
              "      <td>0.469</td>\n",
              "      <td>7.185</td>\n",
              "      <td>61.1</td>\n",
              "      <td>4.9671</td>\n",
              "      <td>2.0</td>\n",
              "      <td>242.0</td>\n",
              "      <td>17.8</td>\n",
              "      <td>392.83</td>\n",
              "      <td>4.03</td>\n",
              "      <td>34.7</td>\n",
              "    </tr>\n",
              "    <tr>\n",
              "      <th>3</th>\n",
              "      <td>0.03237</td>\n",
              "      <td>0.0</td>\n",
              "      <td>2.18</td>\n",
              "      <td>0.0</td>\n",
              "      <td>0.458</td>\n",
              "      <td>6.998</td>\n",
              "      <td>45.8</td>\n",
              "      <td>6.0622</td>\n",
              "      <td>3.0</td>\n",
              "      <td>222.0</td>\n",
              "      <td>18.7</td>\n",
              "      <td>394.63</td>\n",
              "      <td>2.94</td>\n",
              "      <td>33.4</td>\n",
              "    </tr>\n",
              "    <tr>\n",
              "      <th>4</th>\n",
              "      <td>0.06905</td>\n",
              "      <td>0.0</td>\n",
              "      <td>2.18</td>\n",
              "      <td>0.0</td>\n",
              "      <td>0.458</td>\n",
              "      <td>7.147</td>\n",
              "      <td>54.2</td>\n",
              "      <td>6.0622</td>\n",
              "      <td>3.0</td>\n",
              "      <td>222.0</td>\n",
              "      <td>18.7</td>\n",
              "      <td>396.90</td>\n",
              "      <td>5.33</td>\n",
              "      <td>36.2</td>\n",
              "    </tr>\n",
              "  </tbody>\n",
              "</table>\n",
              "</div>\n",
              "    <div class=\"colab-df-buttons\">\n",
              "\n",
              "  <div class=\"colab-df-container\">\n",
              "    <button class=\"colab-df-convert\" onclick=\"convertToInteractive('df-a30f1dd3-0596-48cb-b1bf-c30be099f177')\"\n",
              "            title=\"Convert this dataframe to an interactive table.\"\n",
              "            style=\"display:none;\">\n",
              "\n",
              "  <svg xmlns=\"http://www.w3.org/2000/svg\" height=\"24px\" viewBox=\"0 -960 960 960\">\n",
              "    <path d=\"M120-120v-720h720v720H120Zm60-500h600v-160H180v160Zm220 220h160v-160H400v160Zm0 220h160v-160H400v160ZM180-400h160v-160H180v160Zm440 0h160v-160H620v160ZM180-180h160v-160H180v160Zm440 0h160v-160H620v160Z\"/>\n",
              "  </svg>\n",
              "    </button>\n",
              "\n",
              "  <style>\n",
              "    .colab-df-container {\n",
              "      display:flex;\n",
              "      gap: 12px;\n",
              "    }\n",
              "\n",
              "    .colab-df-convert {\n",
              "      background-color: #E8F0FE;\n",
              "      border: none;\n",
              "      border-radius: 50%;\n",
              "      cursor: pointer;\n",
              "      display: none;\n",
              "      fill: #1967D2;\n",
              "      height: 32px;\n",
              "      padding: 0 0 0 0;\n",
              "      width: 32px;\n",
              "    }\n",
              "\n",
              "    .colab-df-convert:hover {\n",
              "      background-color: #E2EBFA;\n",
              "      box-shadow: 0px 1px 2px rgba(60, 64, 67, 0.3), 0px 1px 3px 1px rgba(60, 64, 67, 0.15);\n",
              "      fill: #174EA6;\n",
              "    }\n",
              "\n",
              "    .colab-df-buttons div {\n",
              "      margin-bottom: 4px;\n",
              "    }\n",
              "\n",
              "    [theme=dark] .colab-df-convert {\n",
              "      background-color: #3B4455;\n",
              "      fill: #D2E3FC;\n",
              "    }\n",
              "\n",
              "    [theme=dark] .colab-df-convert:hover {\n",
              "      background-color: #434B5C;\n",
              "      box-shadow: 0px 1px 3px 1px rgba(0, 0, 0, 0.15);\n",
              "      filter: drop-shadow(0px 1px 2px rgba(0, 0, 0, 0.3));\n",
              "      fill: #FFFFFF;\n",
              "    }\n",
              "  </style>\n",
              "\n",
              "    <script>\n",
              "      const buttonEl =\n",
              "        document.querySelector('#df-a30f1dd3-0596-48cb-b1bf-c30be099f177 button.colab-df-convert');\n",
              "      buttonEl.style.display =\n",
              "        google.colab.kernel.accessAllowed ? 'block' : 'none';\n",
              "\n",
              "      async function convertToInteractive(key) {\n",
              "        const element = document.querySelector('#df-a30f1dd3-0596-48cb-b1bf-c30be099f177');\n",
              "        const dataTable =\n",
              "          await google.colab.kernel.invokeFunction('convertToInteractive',\n",
              "                                                    [key], {});\n",
              "        if (!dataTable) return;\n",
              "\n",
              "        const docLinkHtml = 'Like what you see? Visit the ' +\n",
              "          '<a target=\"_blank\" href=https://colab.research.google.com/notebooks/data_table.ipynb>data table notebook</a>'\n",
              "          + ' to learn more about interactive tables.';\n",
              "        element.innerHTML = '';\n",
              "        dataTable['output_type'] = 'display_data';\n",
              "        await google.colab.output.renderOutput(dataTable, element);\n",
              "        const docLink = document.createElement('div');\n",
              "        docLink.innerHTML = docLinkHtml;\n",
              "        element.appendChild(docLink);\n",
              "      }\n",
              "    </script>\n",
              "  </div>\n",
              "\n",
              "\n",
              "<div id=\"df-1c465dbf-5bd9-4ebc-acc6-d65746b52e6a\">\n",
              "  <button class=\"colab-df-quickchart\" onclick=\"quickchart('df-1c465dbf-5bd9-4ebc-acc6-d65746b52e6a')\"\n",
              "            title=\"Suggest charts\"\n",
              "            style=\"display:none;\">\n",
              "\n",
              "<svg xmlns=\"http://www.w3.org/2000/svg\" height=\"24px\"viewBox=\"0 0 24 24\"\n",
              "     width=\"24px\">\n",
              "    <g>\n",
              "        <path d=\"M19 3H5c-1.1 0-2 .9-2 2v14c0 1.1.9 2 2 2h14c1.1 0 2-.9 2-2V5c0-1.1-.9-2-2-2zM9 17H7v-7h2v7zm4 0h-2V7h2v10zm4 0h-2v-4h2v4z\"/>\n",
              "    </g>\n",
              "</svg>\n",
              "  </button>\n",
              "\n",
              "<style>\n",
              "  .colab-df-quickchart {\n",
              "      --bg-color: #E8F0FE;\n",
              "      --fill-color: #1967D2;\n",
              "      --hover-bg-color: #E2EBFA;\n",
              "      --hover-fill-color: #174EA6;\n",
              "      --disabled-fill-color: #AAA;\n",
              "      --disabled-bg-color: #DDD;\n",
              "  }\n",
              "\n",
              "  [theme=dark] .colab-df-quickchart {\n",
              "      --bg-color: #3B4455;\n",
              "      --fill-color: #D2E3FC;\n",
              "      --hover-bg-color: #434B5C;\n",
              "      --hover-fill-color: #FFFFFF;\n",
              "      --disabled-bg-color: #3B4455;\n",
              "      --disabled-fill-color: #666;\n",
              "  }\n",
              "\n",
              "  .colab-df-quickchart {\n",
              "    background-color: var(--bg-color);\n",
              "    border: none;\n",
              "    border-radius: 50%;\n",
              "    cursor: pointer;\n",
              "    display: none;\n",
              "    fill: var(--fill-color);\n",
              "    height: 32px;\n",
              "    padding: 0;\n",
              "    width: 32px;\n",
              "  }\n",
              "\n",
              "  .colab-df-quickchart:hover {\n",
              "    background-color: var(--hover-bg-color);\n",
              "    box-shadow: 0 1px 2px rgba(60, 64, 67, 0.3), 0 1px 3px 1px rgba(60, 64, 67, 0.15);\n",
              "    fill: var(--button-hover-fill-color);\n",
              "  }\n",
              "\n",
              "  .colab-df-quickchart-complete:disabled,\n",
              "  .colab-df-quickchart-complete:disabled:hover {\n",
              "    background-color: var(--disabled-bg-color);\n",
              "    fill: var(--disabled-fill-color);\n",
              "    box-shadow: none;\n",
              "  }\n",
              "\n",
              "  .colab-df-spinner {\n",
              "    border: 2px solid var(--fill-color);\n",
              "    border-color: transparent;\n",
              "    border-bottom-color: var(--fill-color);\n",
              "    animation:\n",
              "      spin 1s steps(1) infinite;\n",
              "  }\n",
              "\n",
              "  @keyframes spin {\n",
              "    0% {\n",
              "      border-color: transparent;\n",
              "      border-bottom-color: var(--fill-color);\n",
              "      border-left-color: var(--fill-color);\n",
              "    }\n",
              "    20% {\n",
              "      border-color: transparent;\n",
              "      border-left-color: var(--fill-color);\n",
              "      border-top-color: var(--fill-color);\n",
              "    }\n",
              "    30% {\n",
              "      border-color: transparent;\n",
              "      border-left-color: var(--fill-color);\n",
              "      border-top-color: var(--fill-color);\n",
              "      border-right-color: var(--fill-color);\n",
              "    }\n",
              "    40% {\n",
              "      border-color: transparent;\n",
              "      border-right-color: var(--fill-color);\n",
              "      border-top-color: var(--fill-color);\n",
              "    }\n",
              "    60% {\n",
              "      border-color: transparent;\n",
              "      border-right-color: var(--fill-color);\n",
              "    }\n",
              "    80% {\n",
              "      border-color: transparent;\n",
              "      border-right-color: var(--fill-color);\n",
              "      border-bottom-color: var(--fill-color);\n",
              "    }\n",
              "    90% {\n",
              "      border-color: transparent;\n",
              "      border-bottom-color: var(--fill-color);\n",
              "    }\n",
              "  }\n",
              "</style>\n",
              "\n",
              "  <script>\n",
              "    async function quickchart(key) {\n",
              "      const quickchartButtonEl =\n",
              "        document.querySelector('#' + key + ' button');\n",
              "      quickchartButtonEl.disabled = true;  // To prevent multiple clicks.\n",
              "      quickchartButtonEl.classList.add('colab-df-spinner');\n",
              "      try {\n",
              "        const charts = await google.colab.kernel.invokeFunction(\n",
              "            'suggestCharts', [key], {});\n",
              "      } catch (error) {\n",
              "        console.error('Error during call to suggestCharts:', error);\n",
              "      }\n",
              "      quickchartButtonEl.classList.remove('colab-df-spinner');\n",
              "      quickchartButtonEl.classList.add('colab-df-quickchart-complete');\n",
              "    }\n",
              "    (() => {\n",
              "      let quickchartButtonEl =\n",
              "        document.querySelector('#df-1c465dbf-5bd9-4ebc-acc6-d65746b52e6a button');\n",
              "      quickchartButtonEl.style.display =\n",
              "        google.colab.kernel.accessAllowed ? 'block' : 'none';\n",
              "    })();\n",
              "  </script>\n",
              "</div>\n",
              "    </div>\n",
              "  </div>\n"
            ],
            "application/vnd.google.colaboratory.intrinsic+json": {
              "type": "dataframe",
              "variable_name": "X",
              "summary": "{\n  \"name\": \"X\",\n  \"rows\": 506,\n  \"fields\": [\n    {\n      \"column\": \"CRIM\",\n      \"properties\": {\n        \"dtype\": \"number\",\n        \"std\": 8.60154510533249,\n        \"min\": 0.00632,\n        \"max\": 88.9762,\n        \"num_unique_values\": 504,\n        \"samples\": [\n          0.09178,\n          0.05644,\n          0.10574\n        ],\n        \"semantic_type\": \"\",\n        \"description\": \"\"\n      }\n    },\n    {\n      \"column\": \"ZN\",\n      \"properties\": {\n        \"dtype\": \"number\",\n        \"std\": 23.32245299451514,\n        \"min\": 0.0,\n        \"max\": 100.0,\n        \"num_unique_values\": 26,\n        \"samples\": [\n          25.0,\n          30.0,\n          18.0\n        ],\n        \"semantic_type\": \"\",\n        \"description\": \"\"\n      }\n    },\n    {\n      \"column\": \"INDUS\",\n      \"properties\": {\n        \"dtype\": \"number\",\n        \"std\": 6.860352940897585,\n        \"min\": 0.46,\n        \"max\": 27.74,\n        \"num_unique_values\": 76,\n        \"samples\": [\n          8.14,\n          1.47,\n          1.22\n        ],\n        \"semantic_type\": \"\",\n        \"description\": \"\"\n      }\n    },\n    {\n      \"column\": \"CHAS\",\n      \"properties\": {\n        \"dtype\": \"number\",\n        \"std\": 0.25399404134041037,\n        \"min\": 0.0,\n        \"max\": 1.0,\n        \"num_unique_values\": 2,\n        \"samples\": [\n          1.0,\n          0.0\n        ],\n        \"semantic_type\": \"\",\n        \"description\": \"\"\n      }\n    },\n    {\n      \"column\": \"NOX\",\n      \"properties\": {\n        \"dtype\": \"number\",\n        \"std\": 0.11587767566755595,\n        \"min\": 0.385,\n        \"max\": 0.871,\n        \"num_unique_values\": 81,\n        \"samples\": [\n          0.401,\n          0.538\n        ],\n        \"semantic_type\": \"\",\n        \"description\": \"\"\n      }\n    },\n    {\n      \"column\": \"RM\",\n      \"properties\": {\n        \"dtype\": \"number\",\n        \"std\": 0.7026171434153233,\n        \"min\": 3.561,\n        \"max\": 8.78,\n        \"num_unique_values\": 446,\n        \"samples\": [\n          6.849,\n          4.88\n        ],\n        \"semantic_type\": \"\",\n        \"description\": \"\"\n      }\n    },\n    {\n      \"column\": \"AGE\",\n      \"properties\": {\n        \"dtype\": \"number\",\n        \"std\": 28.148861406903617,\n        \"min\": 2.9,\n        \"max\": 100.0,\n        \"num_unique_values\": 356,\n        \"samples\": [\n          51.8,\n          33.8\n        ],\n        \"semantic_type\": \"\",\n        \"description\": \"\"\n      }\n    },\n    {\n      \"column\": \"DIS\",\n      \"properties\": {\n        \"dtype\": \"number\",\n        \"std\": 2.105710126627611,\n        \"min\": 1.1296,\n        \"max\": 12.1265,\n        \"num_unique_values\": 412,\n        \"samples\": [\n          2.2955,\n          4.2515\n        ],\n        \"semantic_type\": \"\",\n        \"description\": \"\"\n      }\n    },\n    {\n      \"column\": \"RAD\",\n      \"properties\": {\n        \"dtype\": \"number\",\n        \"std\": 8.707259384239366,\n        \"min\": 1.0,\n        \"max\": 24.0,\n        \"num_unique_values\": 9,\n        \"samples\": [\n          7.0,\n          2.0\n        ],\n        \"semantic_type\": \"\",\n        \"description\": \"\"\n      }\n    },\n    {\n      \"column\": \"TAX\",\n      \"properties\": {\n        \"dtype\": \"number\",\n        \"std\": 168.53711605495903,\n        \"min\": 187.0,\n        \"max\": 711.0,\n        \"num_unique_values\": 66,\n        \"samples\": [\n          370.0,\n          666.0\n        ],\n        \"semantic_type\": \"\",\n        \"description\": \"\"\n      }\n    },\n    {\n      \"column\": \"PTRATIO\",\n      \"properties\": {\n        \"dtype\": \"number\",\n        \"std\": 2.1649455237144406,\n        \"min\": 12.6,\n        \"max\": 22.0,\n        \"num_unique_values\": 46,\n        \"samples\": [\n          19.6,\n          15.6\n        ],\n        \"semantic_type\": \"\",\n        \"description\": \"\"\n      }\n    },\n    {\n      \"column\": \"B\",\n      \"properties\": {\n        \"dtype\": \"number\",\n        \"std\": 91.29486438415783,\n        \"min\": 0.32,\n        \"max\": 396.9,\n        \"num_unique_values\": 357,\n        \"samples\": [\n          396.24,\n          395.11\n        ],\n        \"semantic_type\": \"\",\n        \"description\": \"\"\n      }\n    },\n    {\n      \"column\": \"LSTAT\",\n      \"properties\": {\n        \"dtype\": \"number\",\n        \"std\": 7.141061511348571,\n        \"min\": 1.73,\n        \"max\": 37.97,\n        \"num_unique_values\": 455,\n        \"samples\": [\n          6.15,\n          4.32\n        ],\n        \"semantic_type\": \"\",\n        \"description\": \"\"\n      }\n    },\n    {\n      \"column\": \"MEDV\",\n      \"properties\": {\n        \"dtype\": \"number\",\n        \"std\": 9.197104087379818,\n        \"min\": 5.0,\n        \"max\": 50.0,\n        \"num_unique_values\": 229,\n        \"samples\": [\n          14.1,\n          22.5\n        ],\n        \"semantic_type\": \"\",\n        \"description\": \"\"\n      }\n    }\n  ]\n}"
            }
          },
          "metadata": {},
          "execution_count": 3
        }
      ]
    },
    {
      "cell_type": "markdown",
      "metadata": {
        "id": "815ut8JJTIM7"
      },
      "source": [
        "#### 1.2. Проектируем архитектуру для этой задачи"
      ]
    },
    {
      "cell_type": "code",
      "source": [
        "# Ваш код\n",
        "from keras.layers import Dense\n",
        "from keras.models import Sequential\n",
        "\n",
        "\n",
        "model = Sequential([\n",
        "    Dense(28, input_shape=(14,), activation='relu'),\n",
        "    Dense(1, activation='relu')\n",
        "])\n",
        "\n",
        "model.summary()"
      ],
      "metadata": {
        "id": "alrRyjbs1c8s",
        "colab": {
          "base_uri": "https://localhost:8080/"
        },
        "outputId": "b0aded0d-a4a3-49b9-ccbd-2c3a3efe5cbf"
      },
      "execution_count": 4,
      "outputs": [
        {
          "output_type": "stream",
          "name": "stdout",
          "text": [
            "Model: \"sequential\"\n",
            "_________________________________________________________________\n",
            " Layer (type)                Output Shape              Param #   \n",
            "=================================================================\n",
            " dense (Dense)               (None, 28)                420       \n",
            "                                                                 \n",
            " dense_1 (Dense)             (None, 1)                 29        \n",
            "                                                                 \n",
            "=================================================================\n",
            "Total params: 449 (1.75 KB)\n",
            "Trainable params: 449 (1.75 KB)\n",
            "Non-trainable params: 0 (0.00 Byte)\n",
            "_________________________________________________________________\n"
          ]
        }
      ]
    },
    {
      "cell_type": "markdown",
      "metadata": {
        "id": "F9E1W4yCT0YC"
      },
      "source": [
        "#### 1.3. Компилируем модель ИНС\n",
        "\n",
        "Подберите нужную функцию потерь и метрику."
      ]
    },
    {
      "cell_type": "code",
      "source": [
        "# Ваш код\n",
        "model.compile(optimizer='sgd', loss='mse', metrics='mae')"
      ],
      "metadata": {
        "id": "Fu8VHdqV1gqy"
      },
      "execution_count": 5,
      "outputs": []
    },
    {
      "cell_type": "markdown",
      "metadata": {
        "id": "ebac-dNAUBtX"
      },
      "source": [
        "#### 1.4. Обучаем модель ИНС"
      ]
    },
    {
      "cell_type": "code",
      "source": [
        "# Ваш код\n",
        "from sklearn.model_selection import train_test_split\n",
        "\n",
        "X_train, X_test, y_train, y_test = train_test_split(X.values, y, test_size=0.2, random_state=0)\n",
        "X_train.shape, X_test.shape"
      ],
      "metadata": {
        "id": "LcVz6t601hFI",
        "colab": {
          "base_uri": "https://localhost:8080/"
        },
        "outputId": "c6b8df14-bdf3-4b2c-efb5-3fb0cc8e69a8"
      },
      "execution_count": 6,
      "outputs": [
        {
          "output_type": "execute_result",
          "data": {
            "text/plain": [
              "((404, 14), (102, 14))"
            ]
          },
          "metadata": {},
          "execution_count": 6
        }
      ]
    },
    {
      "cell_type": "markdown",
      "metadata": {
        "id": "mvlGXR3yVMYo"
      },
      "source": [
        "#### 1.6. Делаем предсказания на тестовых данных"
      ]
    },
    {
      "cell_type": "code",
      "source": [
        "# Ваш код\n",
        "preds = model.predict(x_test_n)"
      ],
      "metadata": {
        "id": "Rui6kjT01jEA",
        "colab": {
          "base_uri": "https://localhost:8080/",
          "height": 159
        },
        "outputId": "1c4b5e24-d156-4941-80d8-19ac43d8aadb"
      },
      "execution_count": 8,
      "outputs": [
        {
          "output_type": "error",
          "ename": "NameError",
          "evalue": "name 'x_test_n' is not defined",
          "traceback": [
            "\u001b[0;31m---------------------------------------------------------------------------\u001b[0m",
            "\u001b[0;31mNameError\u001b[0m                                 Traceback (most recent call last)",
            "\u001b[0;32m<ipython-input-8-62011061237b>\u001b[0m in \u001b[0;36m<cell line: 2>\u001b[0;34m()\u001b[0m\n\u001b[1;32m      1\u001b[0m \u001b[0;31m# Ваш код\u001b[0m\u001b[0;34m\u001b[0m\u001b[0;34m\u001b[0m\u001b[0m\n\u001b[0;32m----> 2\u001b[0;31m \u001b[0mpreds\u001b[0m \u001b[0;34m=\u001b[0m \u001b[0mmodel\u001b[0m\u001b[0;34m.\u001b[0m\u001b[0mpredict\u001b[0m\u001b[0;34m(\u001b[0m\u001b[0mx_test_n\u001b[0m\u001b[0;34m)\u001b[0m\u001b[0;34m\u001b[0m\u001b[0;34m\u001b[0m\u001b[0m\n\u001b[0m",
            "\u001b[0;31mNameError\u001b[0m: name 'x_test_n' is not defined"
          ]
        }
      ]
    },
    {
      "cell_type": "markdown",
      "metadata": {
        "id": "NLsmmLVkVhkL"
      },
      "source": [
        "#### 1.7. Вычисляем метрику качества на тестовых данных"
      ]
    },
    {
      "cell_type": "code",
      "source": [
        "# Ваш код"
      ],
      "metadata": {
        "id": "V8cpkQnr1jcS"
      },
      "execution_count": null,
      "outputs": []
    },
    {
      "cell_type": "markdown",
      "metadata": {
        "id": "d4eyitaoKx_E"
      },
      "source": [
        "#### 1.8. Строим график обучения"
      ]
    },
    {
      "cell_type": "code",
      "source": [
        "# Ваш код"
      ],
      "metadata": {
        "id": "tw-JEpqm1jyK"
      },
      "execution_count": null,
      "outputs": []
    },
    {
      "cell_type": "markdown",
      "metadata": {
        "id": "XYMsbjaoMEqT"
      },
      "source": [
        "#### 1.9. Построение графического интерфейса в Gradio Проверка обученной модели пользовательскими данными"
      ]
    },
    {
      "cell_type": "code",
      "source": [
        "# Ваш код"
      ],
      "metadata": {
        "id": "x-dyoItx2JN_"
      },
      "execution_count": null,
      "outputs": []
    },
    {
      "cell_type": "markdown",
      "source": [
        "#### 2. Проверка обученной модели пользовательскими данными"
      ],
      "metadata": {
        "id": "8UQpi9te2D4J"
      }
    },
    {
      "cell_type": "code",
      "source": [
        "# Ваш код"
      ],
      "metadata": {
        "id": "9aohXWhb2Jjh"
      },
      "execution_count": null,
      "outputs": []
    },
    {
      "cell_type": "markdown",
      "source": [
        "## Задание №2.Обучение модели ИНС для решения задачи классификации\n",
        "\n"
      ],
      "metadata": {
        "id": "DQQMXC8garr3"
      }
    },
    {
      "cell_type": "markdown",
      "source": [
        "Порядок работы:"
      ],
      "metadata": {
        "id": "1OAwSdaG36Ip"
      }
    },
    {
      "cell_type": "markdown",
      "source": [
        "* 1. Собрать датасет из изображений, соответствующих не менее, чем 3 классам объектов (в\n",
        "примере с пары были кошки, собаки и панды).\n"
      ],
      "metadata": {
        "id": "q8COT3YubK-X"
      }
    },
    {
      "cell_type": "markdown",
      "source": [
        "- 2. Для каждого класса должно быть собрано не менее 1000 изображений. Количество\n",
        "изображений для каждого класса должно быть одинаковым.\n",
        "Готовые датасеты можно скачать отсюда: https://www.kaggle.com/\n"
      ],
      "metadata": {
        "id": "YstDH7J2bM5F"
      }
    },
    {
      "cell_type": "markdown",
      "source": [
        "- 3. Обучить модель глубокой нейронной сети для решения задачи классификации\n",
        "изображений, по выбранным Вами классам. (В качестве примера приведён код с пары)\n",
        "В конечном итоге Вы должны сохранить обученную модель для классификации\n",
        "изображений, соответствующих тем классам, которые Вы выбрали, а затем воспользоваться этой моделью для предсказания классов на пользовательских изображениях.\n",
        "\n"
      ],
      "metadata": {
        "id": "9aTvc3A4bN_h"
      }
    },
    {
      "cell_type": "markdown",
      "source": [
        "> При выполнении заданий пробуйте использовать разные функции потерь,\n",
        "методы оптимизации, функции активации и метрики ошибок."
      ],
      "metadata": {
        "id": "yKU34aHabUfp"
      }
    },
    {
      "cell_type": "markdown",
      "source": [
        "### 1. Устанавливаем зависимости:"
      ],
      "metadata": {
        "id": "l8zEG_g8O-Ge"
      }
    },
    {
      "cell_type": "code",
      "execution_count": null,
      "metadata": {
        "id": "sh6kN7IMO8de"
      },
      "outputs": [],
      "source": [
        "# Импортируем LabelBinarizer для преобразования текстовых меток в векторы\n",
        "# (например, \"кошка\" -> [1, 0, 0], \"собака\" -> [0, 1, 0], \"панда\" -> [0, 0, 1])\n",
        "from sklearn.preprocessing import LabelBinarizer\n",
        "\n",
        "# Импортируем train_test_split для разделения данных на обучающую и тестовую выборки\n",
        "from sklearn.model_selection import train_test_split\n",
        "\n",
        "# Импортируем classification_report для оценки качества классификации\n",
        "from sklearn.metrics import classification_report\n",
        "\n",
        "# Импортируем Sequential для создания последовательной модели нейронной сети\n",
        "from keras.models import Sequential\n",
        "\n",
        "# Импортируем Dense для создания плотных слоев нейронной сети\n",
        "from keras.layers import Dense\n",
        "\n",
        "# Импортируем SGD и Adam для оптимизации обучения нейронной сети\n",
        "from keras.optimizers import SGD, Adam\n",
        "\n",
        "# Импортируем paths из imutils для удобной работы с путями к изображениям\n",
        "from imutils import paths\n",
        "\n",
        "# Импортируем pyplot из matplotlib для визуализации данных\n",
        "import matplotlib.pyplot as plt\n",
        "\n",
        "# Импортируем numpy для работы с массивами данных\n",
        "import numpy as np\n",
        "\n",
        "# Импортируем random для генерации случайных чисел\n",
        "import random\n",
        "\n",
        "# Импортируем pickle для сериализации и десериализации данных\n",
        "import pickle\n",
        "\n",
        "# Импортируем cv2 для работы с изображениями\n",
        "import cv2\n",
        "\n",
        "# Импортируем os для работы с файловой системой\n",
        "import os\n",
        "\n",
        "# Импортируем cv2_imshow из google.colab.patches для отображения изображений в Colab\n",
        "from google.colab.patches import cv2_imshow"
      ]
    },
    {
      "cell_type": "markdown",
      "source": [
        "### 2. Загружаем набор данных:"
      ],
      "metadata": {
        "id": "aJextk3pO8Ko"
      }
    },
    {
      "cell_type": "code",
      "execution_count": null,
      "metadata": {
        "id": "ZQOhPesK2-J8"
      },
      "outputs": [],
      "source": [
        "# Ваш код\n",
        "# импортируем бэкенд Agg из matplotlib для сохранения графиков на диск\n",
        "import matplotlib\n",
        "matplotlib.use(\"Agg\")"
      ]
    },
    {
      "cell_type": "code",
      "source": [
        "# Подключаем необходимые модули и пакеты\n",
        "from sklearn.preprocessing import LabelBinarizer\n",
        "from sklearn.model_selection import train_test_split\n",
        "from sklearn.metrics import classification_report\n",
        "from keras.models import Sequential\n",
        "from keras.layers import Dense\n",
        "from keras.optimizers import SGD, Adam\n",
        "from imutils import paths\n",
        "import matplotlib.pyplot as plt\n",
        "import numpy as np\n",
        "import random\n",
        "import pickle\n",
        "import cv2\n",
        "from google.colab.patches import cv2_imshow\n",
        "import os"
      ],
      "metadata": {
        "id": "hmxocWiumZjW"
      },
      "execution_count": null,
      "outputs": []
    },
    {
      "cell_type": "code",
      "source": [
        "%%capture\n",
        "DATADIR = 'Dataset'\n",
        "if os.path.isdir(DATADIR)>0:\n",
        "    print ('Data directory already exists and it is not empty, miss downloading')\n",
        "else:\n",
        "    print ('Data directory does not exists or it is empty, download the dataset')\n",
        "    !gdown --id 1SaAEAxiqU4sSXsFEja1JRARpXCGQIkJN #Скопировать ID из ссылки в гугл диске\n",
        "    !unzip Dataset.zip"
      ],
      "metadata": {
        "id": "EJzizghamonc"
      },
      "execution_count": null,
      "outputs": []
    },
    {
      "cell_type": "code",
      "source": [
        "# инициализируем данные и метки\n",
        "print(\"[INFO] loading images...\")\n",
        "data = []\n",
        "labels = []"
      ],
      "metadata": {
        "colab": {
          "base_uri": "https://localhost:8080/"
        },
        "id": "__ez4GIbmzxj",
        "outputId": "b24a78f8-cecc-4eb9-bdfa-bc6a85221348"
      },
      "execution_count": null,
      "outputs": [
        {
          "output_type": "stream",
          "name": "stdout",
          "text": [
            "[INFO] loading images...\n"
          ]
        }
      ]
    },
    {
      "cell_type": "code",
      "source": [
        "from google.colab import drive\n",
        "drive.mount('/content/drive')"
      ],
      "metadata": {
        "colab": {
          "base_uri": "https://localhost:8080/"
        },
        "id": "jJhDGBFfnxYj",
        "outputId": "ed1c6f89-34c2-4ec2-eb40-91640045a178"
      },
      "execution_count": null,
      "outputs": [
        {
          "output_type": "stream",
          "name": "stdout",
          "text": [
            "Drive already mounted at /content/drive; to attempt to forcibly remount, call drive.mount(\"/content/drive\", force_remount=True).\n"
          ]
        }
      ]
    },
    {
      "cell_type": "markdown",
      "source": [
        "### 3. Указываем путь к набору данных:"
      ],
      "metadata": {
        "id": "pX1km_kyV2Ka"
      }
    },
    {
      "cell_type": "code",
      "execution_count": null,
      "metadata": {
        "id": "hAqtXKu62-bU",
        "colab": {
          "base_uri": "https://localhost:8080/"
        },
        "outputId": "dd906dfe-0168-46a8-a71f-68943dd6fa50"
      },
      "outputs": [
        {
          "output_type": "stream",
          "name": "stdout",
          "text": [
            "lemon\n"
          ]
        }
      ],
      "source": [
        "# Ваш код\n",
        "# Собираем список путей к каждому изображению и перемешиваем их\n",
        "imagePaths = sorted(list(paths.list_images(\"/content/drive/MyDrive/content/vegetables\")))\n",
        "print(imagePaths[700].split(os.path.sep)[-2])\n",
        "random.shuffle(imagePaths)"
      ]
    },
    {
      "cell_type": "markdown",
      "source": [
        "### 4. Загружаем набор данных и формируем общую выборку:"
      ],
      "metadata": {
        "id": "sAYZPzKSVobq"
      }
    },
    {
      "cell_type": "code",
      "execution_count": null,
      "metadata": {
        "id": "1dqs5r-92-x7"
      },
      "outputs": [],
      "source": [
        "# Ваш код\n",
        "# цикл по изображениям\n",
        "for imagePath in imagePaths:\n",
        "\n",
        "\timage = cv2.imread(imagePath) # загружаем изображение\n",
        "\timage = cv2.resize(image, (32, 32)).flatten() # меняем его разрешение на 32x32 пикселей (без учета соотношения сторон),\n",
        "\t\t\t\t\t\t\t\t\t\t\t\t\t\t\t\t\t\t\t\t\t\t\t\t# а затем \"выраниваем\" его в вектор, состоящий из (32*32*3) 3072 пикселей\n",
        "\tdata.append(image) # добавляем в список\n",
        "\n",
        "\tlabel = imagePath.split(os.path.sep)[-2] \t# извлекаем метку класса из пути к изображению (метка класса зависит от имени папки)\n",
        "\tlabels.append(label) # обновляем список меток"
      ]
    },
    {
      "cell_type": "markdown",
      "source": [
        "#### 4.1. Нормализуем данные:"
      ],
      "metadata": {
        "id": "yeiILoUSXn4c"
      }
    },
    {
      "cell_type": "markdown",
      "source": [
        "Масштабируем интенсивности пикселей в диапазон [0, 1], а также преобразуем данные в массивы NumPy для повышения производительности\n"
      ],
      "metadata": {
        "id": "PceSnJBEZDPm"
      }
    },
    {
      "cell_type": "code",
      "execution_count": null,
      "metadata": {
        "id": "wejqgr9U2_hf"
      },
      "outputs": [],
      "source": [
        "# Ваш код\n",
        "# масштабируем интенсивности пикселей в диапазон [0, 1] (Нормализация данных)\n",
        "data = np.array(data, dtype=\"float\") / 255.0\n",
        "labels = np.array(labels)"
      ]
    },
    {
      "cell_type": "markdown",
      "source": [
        "#### 4.2. Формируем обучающую и валидационную выборки:"
      ],
      "metadata": {
        "id": "lREm4zIRaSsx"
      }
    },
    {
      "cell_type": "markdown",
      "source": [
        "Разделяем данные на обучающую и валидационную выборки, используя 75% данных для обучения и оставшиеся 25% для валидации"
      ],
      "metadata": {
        "id": "lwTSSQkPa9oI"
      }
    },
    {
      "cell_type": "code",
      "execution_count": null,
      "metadata": {
        "id": "R23UTovQ3A7R"
      },
      "outputs": [],
      "source": [
        "# Ваш код\n",
        "# разбиваем данные на обучающую и тестовую выборки, используя 75%\n",
        "# данных для обучения и оставшиеся 25% для тестирования\n",
        "(trainX, testX, trainY, testY) = train_test_split(data,\n",
        "\tlabels, test_size=0.25, random_state=42)"
      ]
    },
    {
      "cell_type": "code",
      "source": [
        "# конвертируем метки из целых чисел в векторы (для 2х классов при\n",
        "# бинарной классификации вам следует использовать функцию Keras\n",
        "# \"to_categorical\" вместо \"LabelBinarizer\" из scikit-learn, которая не возвращает вектор)\n",
        "lb = LabelBinarizer()\n",
        "trainY = lb.fit_transform(trainY)\n",
        "testY = lb.transform(testY)"
      ],
      "metadata": {
        "id": "u9UfTbeartaI"
      },
      "execution_count": null,
      "outputs": []
    },
    {
      "cell_type": "markdown",
      "source": [
        "### 5. Создание модели:"
      ],
      "metadata": {
        "id": "Sz33nCuvc3Pk"
      }
    },
    {
      "cell_type": "markdown",
      "source": [
        "#### 5.1. Определим архитектуру модели с помощью Keras:"
      ],
      "metadata": {
        "id": "r2mcOGxEc-uB"
      }
    },
    {
      "cell_type": "code",
      "execution_count": null,
      "metadata": {
        "id": "nj_bAWxv3B0B"
      },
      "outputs": [],
      "source": [
        "# Ваш код\n",
        "# определим архитектуру 3072-1024-512-3 с помощью Keras\n",
        "model = Sequential()\n",
        "model.add(Dense(1024, input_shape=(3072,), activation=\"relu\"))\n",
        "model.add(Dense(512, activation=\"relu\"))\n",
        "model.add(Dense(len(lb.classes_), activation=\"softmax\"))"
      ]
    },
    {
      "cell_type": "markdown",
      "source": [
        "#### 5.2. Установим значение параметров скорости обучения и общего числа эпох\n"
      ],
      "metadata": {
        "id": "HHFTdcCkg1Wr"
      }
    },
    {
      "cell_type": "code",
      "execution_count": null,
      "metadata": {
        "id": "pzlpLmGm3CMU"
      },
      "outputs": [],
      "source": [
        "# инициализируем скорость обучения и общее число эпох\n",
        "INIT_LR = 0.01\n",
        "EPOCHS = 80"
      ]
    },
    {
      "cell_type": "markdown",
      "source": [
        "#### 5.3. Компилируем модель:"
      ],
      "metadata": {
        "id": "YaDdd2wphXLv"
      }
    },
    {
      "cell_type": "code",
      "execution_count": null,
      "metadata": {
        "id": "3mxDQXSc3Cc5",
        "colab": {
          "base_uri": "https://localhost:8080/"
        },
        "outputId": "bfcd44fb-c8f5-41dc-fe4c-63d7d583f2fe"
      },
      "outputs": [
        {
          "output_type": "stream",
          "name": "stderr",
          "text": [
            "WARNING:absl:`lr` is deprecated in Keras optimizer, please use `learning_rate` or use the legacy optimizer, e.g.,tf.keras.optimizers.legacy.SGD.\n"
          ]
        },
        {
          "output_type": "stream",
          "name": "stdout",
          "text": [
            "[INFO] training network...\n"
          ]
        }
      ],
      "source": [
        "# компилируем модель, используя SGD как оптимизатор и категориальную\n",
        "# кросс-энтропию в качестве функции потерь (для бинарной классификации\n",
        "# следует использовать binary_crossentropy)\n",
        "print(\"[INFO] training network...\")\n",
        "opt = SGD(lr=INIT_LR)\n",
        "model.compile(loss=\"categorical_crossentropy\", optimizer=opt,\n",
        "\tmetrics=[\"accuracy\"])"
      ]
    },
    {
      "cell_type": "markdown",
      "source": [
        "### 6. Обучение модели искусственной нейронной сети:"
      ],
      "metadata": {
        "id": "EaJdxfw4hwjN"
      }
    },
    {
      "cell_type": "markdown",
      "source": [
        "#### 6.1. Добавим колбэки для сохранения лучшей модели по валидационной точности и остановки обучения, в случае, если модель перестала обучаться:"
      ],
      "metadata": {
        "id": "KAzlK96zi0dy"
      }
    },
    {
      "cell_type": "code",
      "execution_count": null,
      "metadata": {
        "id": "2d6HT9jU3C3E"
      },
      "outputs": [],
      "source": [
        "from keras.callbacks import EarlyStopping, ModelCheckpoint\n",
        "\n",
        "early_stopping = EarlyStopping(patience=5) # Остановка обучения, если\n",
        "                                             # валидационная точность не\n",
        "                                             # улучшается в течение 5 эпох\n",
        "checkpoint = ModelCheckpoint(filepath=\"best_model.h5\",\n",
        "                             monitor=\"val_accuracy\",\n",
        "                             save_best_only=True,\n",
        "                             verbose=0) # Сохранение модели\n",
        "                                         # только при улучшении\n",
        "                                         # валидационной точности"
      ]
    },
    {
      "cell_type": "markdown",
      "source": [
        "#### 6.2. Запустим процесс обучения модели:"
      ],
      "metadata": {
        "id": "IgakM035jDPi"
      }
    },
    {
      "cell_type": "code",
      "execution_count": null,
      "metadata": {
        "id": "YNloZiKH3DMV",
        "colab": {
          "base_uri": "https://localhost:8080/"
        },
        "outputId": "6b55252c-d0db-4ba6-ade4-11c83e2a445e"
      },
      "outputs": [
        {
          "output_type": "stream",
          "name": "stdout",
          "text": [
            "Epoch 1/80\n",
            "23/23 [==============================] - 2s 52ms/step - loss: 0.5815 - accuracy: 0.8178 - val_loss: 0.4270 - val_accuracy: 0.8922\n",
            "Epoch 2/80\n",
            " 3/23 [==>...........................] - ETA: 0s - loss: 0.3505 - accuracy: 0.9037"
          ]
        },
        {
          "output_type": "stream",
          "name": "stderr",
          "text": [
            "/usr/local/lib/python3.10/dist-packages/keras/src/engine/training.py:3103: UserWarning: You are saving your model as an HDF5 file via `model.save()`. This file format is considered legacy. We recommend using instead the native Keras format, e.g. `model.save('my_model.keras')`.\n",
            "  saving_api.save_model(\n"
          ]
        },
        {
          "output_type": "stream",
          "name": "stdout",
          "text": [
            "23/23 [==============================] - 1s 40ms/step - loss: 0.3326 - accuracy: 0.8749 - val_loss: 0.4119 - val_accuracy: 0.8743\n",
            "Epoch 3/80\n",
            "23/23 [==============================] - 1s 40ms/step - loss: 0.2781 - accuracy: 0.8949 - val_loss: 0.3196 - val_accuracy: 0.8862\n",
            "Epoch 4/80\n",
            "23/23 [==============================] - 1s 41ms/step - loss: 0.2519 - accuracy: 0.9079 - val_loss: 0.2792 - val_accuracy: 0.9012\n",
            "Epoch 5/80\n",
            "23/23 [==============================] - 1s 36ms/step - loss: 0.2238 - accuracy: 0.9119 - val_loss: 0.2725 - val_accuracy: 0.8832\n",
            "Epoch 6/80\n",
            "23/23 [==============================] - 1s 35ms/step - loss: 0.2135 - accuracy: 0.9189 - val_loss: 0.2400 - val_accuracy: 0.8952\n",
            "Epoch 7/80\n",
            "23/23 [==============================] - 1s 37ms/step - loss: 0.2017 - accuracy: 0.9369 - val_loss: 0.3104 - val_accuracy: 0.8743\n",
            "Epoch 8/80\n",
            "23/23 [==============================] - 1s 42ms/step - loss: 0.1916 - accuracy: 0.9349 - val_loss: 1.2845 - val_accuracy: 0.3234\n",
            "Epoch 9/80\n",
            "23/23 [==============================] - 1s 47ms/step - loss: 0.2709 - accuracy: 0.9019 - val_loss: 0.2234 - val_accuracy: 0.9042\n",
            "Epoch 10/80\n",
            "23/23 [==============================] - 1s 60ms/step - loss: 0.1762 - accuracy: 0.9429 - val_loss: 0.2164 - val_accuracy: 0.9132\n",
            "Epoch 11/80\n",
            "23/23 [==============================] - 2s 67ms/step - loss: 0.1649 - accuracy: 0.9419 - val_loss: 0.2084 - val_accuracy: 0.9192\n",
            "Epoch 12/80\n",
            "23/23 [==============================] - 1s 58ms/step - loss: 0.1670 - accuracy: 0.9409 - val_loss: 0.2288 - val_accuracy: 0.9072\n",
            "Epoch 13/80\n",
            "23/23 [==============================] - 2s 66ms/step - loss: 0.1475 - accuracy: 0.9510 - val_loss: 0.2060 - val_accuracy: 0.9072\n",
            "Epoch 14/80\n",
            "23/23 [==============================] - 1s 39ms/step - loss: 0.1432 - accuracy: 0.9510 - val_loss: 0.2718 - val_accuracy: 0.8922\n",
            "Epoch 15/80\n",
            "23/23 [==============================] - 1s 40ms/step - loss: 0.1429 - accuracy: 0.9449 - val_loss: 0.2145 - val_accuracy: 0.9042\n",
            "Epoch 16/80\n",
            "23/23 [==============================] - 1s 35ms/step - loss: 0.1357 - accuracy: 0.9489 - val_loss: 0.2074 - val_accuracy: 0.9072\n",
            "Epoch 17/80\n",
            "23/23 [==============================] - 1s 39ms/step - loss: 0.1298 - accuracy: 0.9489 - val_loss: 0.2218 - val_accuracy: 0.8982\n",
            "Epoch 18/80\n",
            "23/23 [==============================] - 1s 41ms/step - loss: 0.1275 - accuracy: 0.9540 - val_loss: 0.1830 - val_accuracy: 0.9222\n",
            "Epoch 19/80\n",
            "23/23 [==============================] - 1s 34ms/step - loss: 0.1231 - accuracy: 0.9600 - val_loss: 0.2125 - val_accuracy: 0.9012\n",
            "Epoch 20/80\n",
            "23/23 [==============================] - 1s 35ms/step - loss: 0.1142 - accuracy: 0.9620 - val_loss: 0.2208 - val_accuracy: 0.9222\n",
            "Epoch 21/80\n",
            "23/23 [==============================] - 1s 35ms/step - loss: 0.1171 - accuracy: 0.9580 - val_loss: 0.1935 - val_accuracy: 0.9162\n",
            "Epoch 22/80\n",
            "23/23 [==============================] - 1s 37ms/step - loss: 0.1068 - accuracy: 0.9660 - val_loss: 0.1819 - val_accuracy: 0.9192\n",
            "Epoch 23/80\n",
            "23/23 [==============================] - 1s 37ms/step - loss: 0.1068 - accuracy: 0.9710 - val_loss: 0.2233 - val_accuracy: 0.9132\n",
            "Epoch 24/80\n",
            "23/23 [==============================] - 1s 35ms/step - loss: 0.1031 - accuracy: 0.9650 - val_loss: 0.2340 - val_accuracy: 0.9012\n",
            "Epoch 25/80\n",
            "23/23 [==============================] - 1s 41ms/step - loss: 0.0993 - accuracy: 0.9670 - val_loss: 0.1907 - val_accuracy: 0.9162\n",
            "Epoch 26/80\n",
            "23/23 [==============================] - 1s 60ms/step - loss: 0.0937 - accuracy: 0.9710 - val_loss: 0.1918 - val_accuracy: 0.9102\n",
            "Epoch 27/80\n",
            "23/23 [==============================] - 1s 51ms/step - loss: 0.0936 - accuracy: 0.9680 - val_loss: 0.1835 - val_accuracy: 0.9192\n"
          ]
        }
      ],
      "source": [
        "# обучаем нейросеть\n",
        "H = model.fit(trainX, trainY, validation_data=(testX, testY),\n",
        "\tepochs=EPOCHS, batch_size=45, callbacks=[early_stopping, checkpoint])"
      ]
    },
    {
      "cell_type": "markdown",
      "source": [
        "#### 6.3. Загружаем лучшую модель:"
      ],
      "metadata": {
        "id": "-dESH383noKz"
      }
    },
    {
      "cell_type": "code",
      "execution_count": null,
      "metadata": {
        "id": "_ZOMBkJk3Dgk"
      },
      "outputs": [],
      "source": [
        "# Ваш код\n",
        "from keras.models import load_model\n",
        "\n",
        "model = load_model(\"/content/best_model.h5\")"
      ]
    },
    {
      "cell_type": "markdown",
      "source": [
        "### 7. Оценка точности:"
      ],
      "metadata": {
        "id": "CLv-TknOoQ8l"
      }
    },
    {
      "cell_type": "markdown",
      "source": [
        "#### 7.1. Выведем отчет классификации"
      ],
      "metadata": {
        "id": "J16c8i49o2Kq"
      }
    },
    {
      "cell_type": "code",
      "execution_count": null,
      "metadata": {
        "id": "cqmQz4mO3D5s",
        "colab": {
          "base_uri": "https://localhost:8080/"
        },
        "outputId": "e43dddb2-211f-476d-d35d-92a2dfd73224"
      },
      "outputs": [
        {
          "output_type": "stream",
          "name": "stdout",
          "text": [
            "[INFO] evaluating network...\n",
            "8/8 [==============================] - 0s 12ms/step\n",
            "              precision    recall  f1-score   support\n",
            "\n",
            "       apple       0.47      0.36      0.41        22\n",
            "       lemon       0.97      1.00      0.98       282\n",
            "      tomato       0.70      0.63      0.67        30\n",
            "\n",
            "    accuracy                           0.92       334\n",
            "   macro avg       0.71      0.66      0.69       334\n",
            "weighted avg       0.91      0.92      0.92       334\n",
            "\n"
          ]
        }
      ],
      "source": [
        "# оцениваем нейросеть\n",
        "print(\"[INFO] evaluating network...\")\n",
        "predictions = model.predict(testX, batch_size=45)\n",
        "print(classification_report(testY.argmax(axis=1),\n",
        "\tpredictions.argmax(axis=1), target_names=lb.classes_))"
      ]
    },
    {
      "cell_type": "markdown",
      "source": [
        "#### 7.2. Выведем матрицу ошибок"
      ],
      "metadata": {
        "id": "YwbFnynjpKYS"
      }
    },
    {
      "cell_type": "code",
      "execution_count": null,
      "metadata": {
        "id": "77_vkdSk3EOd",
        "colab": {
          "base_uri": "https://localhost:8080/",
          "height": 514
        },
        "outputId": "eca50a99-86e6-446b-f0f5-4bd5dd4b0562"
      },
      "outputs": [
        {
          "output_type": "stream",
          "name": "stdout",
          "text": [
            "11/11 [==============================] - 0s 18ms/step\n"
          ]
        },
        {
          "output_type": "display_data",
          "data": {
            "text/plain": [
              "<PIL.Image.Image image mode=RGB size=640x480>"
            ],
            "image/png": "[encoded data removed]"
          },
          "metadata": {}
        }
      ],
      "source": [
        "from sklearn.metrics import confusion_matrix\n",
        "import seaborn as sns\n",
        "plt.figure()\n",
        "# Получим прогнозы по валидационным даннным\n",
        "Y_pred = model.predict(testX, batch_size=32)\n",
        "\n",
        "# Преобразуем вероятности в метки классов\n",
        "Y_pred = Y_pred.argmax(axis=1)\n",
        "Y_val = testY.argmax(axis=1)\n",
        "\n",
        "# Вычисляем матрицу ошибок\n",
        "conf_mat = confusion_matrix(Y_val, Y_pred)\n",
        "\n",
        "# Визуализируем матрицу ошибок\n",
        "sns.heatmap(conf_mat, annot=True, fmt=\"d\", cmap=\"YlGnBu\")\n",
        "plt.savefig('plot1.png')\n",
        "cv2_imshow(cv2.imread(\"plot1.png\"))\n",
        "#plt.show()"
      ]
    },
    {
      "cell_type": "markdown",
      "source": [
        "#### 7.3. Отобразим график обучения"
      ],
      "metadata": {
        "id": "oqoaYCciugwi"
      }
    },
    {
      "cell_type": "code",
      "execution_count": null,
      "metadata": {
        "id": "ALa4XomM3EmL",
        "colab": {
          "base_uri": "https://localhost:8080/",
          "height": 566
        },
        "outputId": "d671e11e-75a0-466e-c1b1-8e029684840a"
      },
      "outputs": [
        {
          "output_type": "stream",
          "name": "stdout",
          "text": [
            "[ 0  1  2  3  4  5  6  7  8  9 10 11 12 13 14 15 16 17 18 19 20 21 22 23\n",
            " 24 25 26 27 28 29 30 31 32 33 34 35 36 37 38 39 40 41 42 43 44 45 46 47\n",
            " 48 49 50 51 52 53 54 55 56 57 58 59 60 61 62 63 64 65 66 67 68 69 70 71\n",
            " 72 73 74 75 76 77 78 79]\n"
          ]
        },
        {
          "output_type": "display_data",
          "data": {
            "text/plain": [
              "<PIL.Image.Image image mode=RGB size=640x480>"
            ],
            "image/png": "[encoded data removed]"
          },
          "metadata": {}
        }
      ],
      "source": [
        "# строим графики потерь и точности\n",
        "N = np.arange(0, EPOCHS)\n",
        "print(N)\n",
        "plt.style.use(\"ggplot\")\n",
        "plt.figure()\n",
        "#plt.plot(N, H.history[\"loss\"], label=\"train_loss\")\n",
        "plt.plot(H.history[\"loss\"], label=\"train_loss\")\n",
        "plt.plot(H.history[\"val_loss\"], label=\"val_loss\")\n",
        "plt.plot(H.history[\"accuracy\"], label=\"train_acc\")\n",
        "plt.plot(H.history[\"val_accuracy\"], label=\"val_acc\")\n",
        "plt.title(\"Training Loss and Accuracy (Simple NN)\")\n",
        "plt.xlabel(\"Epoch #\")\n",
        "plt.ylabel(\"Loss/Accuracy\")\n",
        "plt.legend()\n",
        "plt.savefig('plot.png')\n",
        "cv2_imshow(cv2.imread(\"plot.png\"))"
      ]
    },
    {
      "cell_type": "markdown",
      "source": [
        "### 8. Сохранение модели и меток классов:"
      ],
      "metadata": {
        "id": "RZfpw-xQu3Q8"
      }
    },
    {
      "cell_type": "code",
      "execution_count": null,
      "metadata": {
        "id": "mGlt9K8N3E7D"
      },
      "outputs": [],
      "source": [
        "def save_model_and_labels(model, lb, model_path = \"model.h5\", labels_path = \"label_bin\"):\n",
        "\n",
        "    # Сохранение модели\n",
        "    model.save(model_path, save_format=\"h5\")\n",
        "\n",
        "    # Сохранение меток\n",
        "    with open(labels_path, \"wb\") as f:\n",
        "        f.write(pickle.dumps(lb))"
      ]
    },
    {
      "cell_type": "markdown",
      "metadata": {
        "id": "YjyCuhw1aeti"
      },
      "source": [
        "### 9. Проверка обученной модели пользовательскими данными:"
      ]
    },
    {
      "cell_type": "markdown",
      "source": [
        "#### 9.1. Импортируем необходимые библиотеки"
      ],
      "metadata": {
        "id": "yfUIW800wuyu"
      }
    },
    {
      "cell_type": "code",
      "execution_count": null,
      "metadata": {
        "id": "wk1qihbS3FR1",
        "colab": {
          "base_uri": "https://localhost:8080/"
        },
        "outputId": "75959d46-44b6-4401-e0b7-5af667c3e0ff"
      },
      "outputs": [
        {
          "output_type": "stream",
          "name": "stdout",
          "text": [
            "\u001b[2K     \u001b[90m━━━━━━━━━━━━━━━━━━━━━━━━━━━━━━━━━━━━━━━━\u001b[0m \u001b[32m17.0/17.0 MB\u001b[0m \u001b[31m24.8 MB/s\u001b[0m eta \u001b[36m0:00:00\u001b[0m\n",
            "\u001b[2K     \u001b[90m━━━━━━━━━━━━━━━━━━━━━━━━━━━━━━━━━━━━━━━━\u001b[0m \u001b[32m92.1/92.1 kB\u001b[0m \u001b[31m6.6 MB/s\u001b[0m eta \u001b[36m0:00:00\u001b[0m\n",
            "\u001b[?25h  Preparing metadata (setup.py) ... \u001b[?25l\u001b[?25hdone\n",
            "\u001b[2K     \u001b[90m━━━━━━━━━━━━━━━━━━━━━━━━━━━━━━━━━━━━━━━━\u001b[0m \u001b[32m310.7/310.7 kB\u001b[0m \u001b[31m27.8 MB/s\u001b[0m eta \u001b[36m0:00:00\u001b[0m\n",
            "\u001b[2K     \u001b[90m━━━━━━━━━━━━━━━━━━━━━━━━━━━━━━━━━━━━━━━━\u001b[0m \u001b[32m75.6/75.6 kB\u001b[0m \u001b[31m7.8 MB/s\u001b[0m eta \u001b[36m0:00:00\u001b[0m\n",
            "\u001b[2K     \u001b[90m━━━━━━━━━━━━━━━━━━━━━━━━━━━━━━━━━━━━━━━━\u001b[0m \u001b[32m138.5/138.5 kB\u001b[0m \u001b[31m14.1 MB/s\u001b[0m eta \u001b[36m0:00:00\u001b[0m\n",
            "\u001b[2K     \u001b[90m━━━━━━━━━━━━━━━━━━━━━━━━━━━━━━━━━━━━━━━━\u001b[0m \u001b[32m8.6/8.6 MB\u001b[0m \u001b[31m51.0 MB/s\u001b[0m eta \u001b[36m0:00:00\u001b[0m\n",
            "\u001b[2K     \u001b[90m━━━━━━━━━━━━━━━━━━━━━━━━━━━━━━━━━━━━━━━━\u001b[0m \u001b[32m60.6/60.6 kB\u001b[0m \u001b[31m6.0 MB/s\u001b[0m eta \u001b[36m0:00:00\u001b[0m\n",
            "\u001b[2K     \u001b[90m━━━━━━━━━━━━━━━━━━━━━━━━━━━━━━━━━━━━━━━━\u001b[0m \u001b[32m129.9/129.9 kB\u001b[0m \u001b[31m14.1 MB/s\u001b[0m eta \u001b[36m0:00:00\u001b[0m\n",
            "\u001b[2K     \u001b[90m━━━━━━━━━━━━━━━━━━━━━━━━━━━━━━━━━━━━━━━━\u001b[0m \u001b[32m77.8/77.8 kB\u001b[0m \u001b[31m7.3 MB/s\u001b[0m eta \u001b[36m0:00:00\u001b[0m\n",
            "\u001b[2K     \u001b[90m━━━━━━━━━━━━━━━━━━━━━━━━━━━━━━━━━━━━━━━━\u001b[0m \u001b[32m58.3/58.3 kB\u001b[0m \u001b[31m5.8 MB/s\u001b[0m eta \u001b[36m0:00:00\u001b[0m\n",
            "\u001b[2K     \u001b[90m━━━━━━━━━━━━━━━━━━━━━━━━━━━━━━━━━━━━━━━━\u001b[0m \u001b[32m71.5/71.5 kB\u001b[0m \u001b[31m7.1 MB/s\u001b[0m eta \u001b[36m0:00:00\u001b[0m\n",
            "\u001b[?25h  Building wheel for ffmpy (setup.py) ... \u001b[?25l\u001b[?25hdone\n"
          ]
        }
      ],
      "source": [
        "!pip install -q gradio"
      ]
    },
    {
      "cell_type": "code",
      "source": [
        "from keras.models import load_model\n",
        "import argparse\n",
        "import pickle\n",
        "import cv2"
      ],
      "metadata": {
        "id": "Pfzpr8hQ5p8T"
      },
      "execution_count": null,
      "outputs": []
    },
    {
      "cell_type": "markdown",
      "source": [
        "#### 9.2. Реализуем функцию для предобработки входных данных в той же последовательности, что и при формировании обучающей выборки:"
      ],
      "metadata": {
        "id": "PM2dadCBwzES"
      }
    },
    {
      "cell_type": "code",
      "execution_count": null,
      "metadata": {
        "id": "P4KLc85A3FkU"
      },
      "outputs": [],
      "source": [
        "# Функция для предобработки изображения\n",
        "def preprocess_image(img, compression_size = 32):\n",
        "\n",
        "    image = img.copy()  # Создаем копию изображения\n",
        "    # Изменяем размер изображения до compression_size x compression_size пикселей\n",
        "    image = cv2.resize(image, (compression_size, compression_size))\n",
        "    # Преобразуем изображение в одномерный массив (вектор)\n",
        "    image = image.flatten()\n",
        "    # Масштабируем значения пикселей к диапазону [0, 1]\n",
        "    image = image.astype(\"float\") / 255.0\n",
        "    # Преобразуем массив в формат, совместимый с нашей моделью Keras\n",
        "    image = image.reshape((1, image.shape[0]))\n",
        "\n",
        "    return image"
      ]
    },
    {
      "cell_type": "markdown",
      "source": [
        "#### 9.3. Определим функцию для осуществления прогноза по загруженной модели:"
      ],
      "metadata": {
        "id": "UXPI1dAIxvPz"
      }
    },
    {
      "cell_type": "code",
      "execution_count": null,
      "metadata": {
        "id": "LO4Ty_t0anmv"
      },
      "outputs": [],
      "source": [
        "# Ваш код"
      ]
    },
    {
      "cell_type": "markdown",
      "source": [
        "### 10. Визуализируем интерфейс и произведем классификацию:"
      ],
      "metadata": {
        "id": "acXaOZ_z3dDq"
      }
    },
    {
      "cell_type": "code",
      "execution_count": null,
      "metadata": {
        "id": "5wW8xYEB3dDr"
      },
      "outputs": [],
      "source": [
        "# Ваш код"
      ]
    }
  ]
}